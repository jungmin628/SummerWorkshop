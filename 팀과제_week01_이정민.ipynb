{
  "nbformat": 4,
  "nbformat_minor": 0,
  "metadata": {
    "colab": {
      "name": "팀과제_week01_이정민.ipynb",
      "provenance": [],
      "collapsed_sections": [],
      "authorship_tag": "ABX9TyPEfbwaXciUSvYlrrBwBRYL",
      "include_colab_link": true
    },
    "kernelspec": {
      "name": "python3",
      "display_name": "Python 3"
    },
    "language_info": {
      "name": "python"
    }
  },
  "cells": [
    {
      "cell_type": "markdown",
      "metadata": {
        "id": "view-in-github",
        "colab_type": "text"
      },
      "source": [
        "<a href=\"https://colab.research.google.com/github/jungmin628/SummerWorkshop/blob/master/%ED%8C%80%EA%B3%BC%EC%A0%9C_week01_%EC%9D%B4%EC%A0%95%EB%AF%BC.ipynb\" target=\"_parent\"><img src=\"https://colab.research.google.com/assets/colab-badge.svg\" alt=\"Open In Colab\"/></a>"
      ]
    },
    {
      "cell_type": "code",
      "execution_count": null,
      "metadata": {
        "colab": {
          "base_uri": "https://localhost:8080/"
        },
        "id": "crQoLFz2g2pt",
        "outputId": "ccab030b-7399-4767-f3e3-b4556768606e"
      },
      "outputs": [
        {
          "output_type": "stream",
          "name": "stdout",
          "text": [
            "입력3 7\n",
            "0.42857142857142854764\n"
          ]
        }
      ],
      "source": [
        "# 1번\n",
        "a,b = input('입력').split();\n",
        "result_a = int(a)\n",
        "result_b = int(b)\n",
        "result = result_a/result_b\n",
        "print('%.20f' %result)"
      ]
    },
    {
      "cell_type": "code",
      "source": [
        "# 2번\n",
        "result_sum = int(input(\"서로다른 자연수 N개의 자연수 합은?\"))\n",
        "cnt = 0\n",
        "sum = 0\n",
        "for kk in range(result_sum):\n",
        "  cnt=cnt+1\n",
        "  sum = sum+cnt\n",
        "  if(sum == result_sum):\n",
        "    print(cnt)\n",
        "    break\n",
        "  elif(sum > result_sum):\n",
        "    cnt=cnt-1\n",
        "    print(cnt)\n",
        "    break"
      ],
      "metadata": {
        "colab": {
          "base_uri": "https://localhost:8080/"
        },
        "id": "wB88SRs1i4Rw",
        "outputId": "046a0b1b-5694-4e46-8e91-69016d28a2b4"
      },
      "execution_count": null,
      "outputs": [
        {
          "output_type": "stream",
          "name": "stdout",
          "text": [
            "서로다른 자연수 N개의 자연수 합은?19\n",
            "5\n"
          ]
        }
      ]
    },
    {
      "cell_type": "code",
      "source": [
        "# 3번\n",
        "# 미완성\n",
        "import numpy as np\n",
        "while True:\n",
        "  num = int(input('행렬의 크기를 입력하세요'))\n",
        "  if(num%2 == 0):\n",
        "    break\n",
        "  else:\n",
        "    print(\"짝수의 수로 다시 입력하세요.\")\n",
        "    continue\n",
        "array = np.random.randint(0,100, size = (2**num,2**num))\n",
        "print(array)\n",
        "max = int(array[0][0])\n",
        "second = 0\n",
        "while True:\n",
        "  if(num>2):\n",
        "    for i in range(num):\n",
        "      for j in range(num):\n",
        "        if(max<array[i][j]):\n",
        "          second = max\n",
        "          max = array[i][j]\n",
        "        elif(second<array[i][j]<max):\n",
        "          second = array[i][j]\n",
        "    array2 = np.array([])\n",
        "    array2 = np.append(array2, second)\n",
        "  else:\n",
        "\n",
        "print(array2)"
      ],
      "metadata": {
        "id": "HqJ-OJuf0nBt",
        "colab": {
          "base_uri": "https://localhost:8080/"
        },
        "outputId": "a45e7b60-0a1c-409a-eddb-ed24337b8575"
      },
      "execution_count": 37,
      "outputs": [
        {
          "output_type": "stream",
          "name": "stdout",
          "text": [
            "행렬의 크기를 입력하세요3\n",
            "짝수의 수로 다시 입력하세요.\n",
            "행렬의 크기를 입력하세요4\n",
            "[[16 33 35 84 77 41 79 65 28 96 35 48 90 80 83 99]\n",
            " [ 9 14  5 83 17 27 88 38 19 69 23 25 34 14 65 61]\n",
            " [35  3 93 28 17 69 48 93 56 40 29 96 85 91 47 93]\n",
            " [81 20 95 16 35 70  8 35 50 29 35 48 46 52 93 21]\n",
            " [ 1 56 97 99 79 89  5 74  1  5 33 95 95 90 98 17]\n",
            " [54 13 67 90 15 93  6 28 19 71 36 66 66 37 51 88]\n",
            " [22 29 38 84 52 57 28 53 62 79 14 18 69 43 47 56]\n",
            " [11 27 94 12 22 68 16 65 92 78 48 94 61 98  1 40]\n",
            " [ 4 46 23 43 35 11 52 98 48 91 25 82 55 55 73 65]\n",
            " [93 27 36 32 87 80 28 18  0 32 32 80  2 17 43 34]\n",
            " [33 16 15 67  3 17 77 10  6 65 91 87 19  5 74 85]\n",
            " [90 22 43  4 46 51 20 56 61 92 86 13 86 93 49 99]\n",
            " [ 4 86 24 90 52 88 93 87 14 86  0 59 18 84 92 72]\n",
            " [20 52 40 40 33 51 13 12 51 18 67  1 14 86 12  4]\n",
            " [89 21 41 35 78 72 38 91 96 58 97 97  1 23 69 76]\n",
            " [23 72 20 92 93 14 92 93  4 94 80 10 38 93 48  7]]\n",
            "[93.]\n"
          ]
        }
      ]
    }
  ]
}