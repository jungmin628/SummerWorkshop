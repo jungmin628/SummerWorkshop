{
  "nbformat": 4,
  "nbformat_minor": 0,
  "metadata": {
    "colab": {
      "name": "파이썬_멘토링_week01과제_이정민.ipynb",
      "provenance": [],
      "collapsed_sections": [],
      "authorship_tag": "ABX9TyN3JQPlJ4ElRt+uvMyyWzLZ",
      "include_colab_link": true
    },
    "kernelspec": {
      "name": "python3",
      "display_name": "Python 3"
    },
    "language_info": {
      "name": "python"
    }
  },
  "cells": [
    {
      "cell_type": "markdown",
      "metadata": {
        "id": "view-in-github",
        "colab_type": "text"
      },
      "source": [
        "<a href=\"https://colab.research.google.com/github/jungmin628/SummerWorkshop/blob/master/%ED%8C%8C%EC%9D%B4%EC%8D%AC_%EB%A9%98%ED%86%A0%EB%A7%81_week01%EA%B3%BC%EC%A0%9C_%EC%9D%B4%EC%A0%95%EB%AF%BC.ipynb\" target=\"_parent\"><img src=\"https://colab.research.google.com/assets/colab-badge.svg\" alt=\"Open In Colab\"/></a>"
      ]
    },
    {
      "cell_type": "code",
      "source": [
        "# 1번\n",
        "result_lt=[]\n",
        "str1 = 'c:K:g:E'\n",
        "for kk in str1:\n",
        "  if (kk!=':'):\n",
        "    result_lt.append(kk) \n",
        "    result_str1 = ''.join(result_lt)\n",
        "result_str1 = sorted(result_str1.lower())\n",
        "result_str1 = ''.join(result_str1)\n",
        "print(result_str1)"
      ],
      "metadata": {
        "colab": {
          "base_uri": "https://localhost:8080/"
        },
        "id": "CeWbAXS_kWn9",
        "outputId": "5bcb8551-a6b4-43a6-e19d-55a31365bc6b"
      },
      "execution_count": null,
      "outputs": [
        {
          "output_type": "stream",
          "name": "stdout",
          "text": [
            "cegk\n"
          ]
        }
      ]
    },
    {
      "cell_type": "code",
      "source": [
        "# 2번\n",
        "tu1 = (31, 24, 'hello!', 'hi', 'Python', 'Caerang')\n",
        "lt=[]\n",
        "for kk in tu1:\n",
        "  if(kk=='hello!'):\n",
        "    kk='hello!!'\n",
        "  lt.append(kk)\n",
        "tu1 = tuple(lt)\n",
        "print(tu1)\n",
        "print(type(tu1))    "
      ],
      "metadata": {
        "colab": {
          "base_uri": "https://localhost:8080/"
        },
        "id": "io8m6w9YJkO0",
        "outputId": "1863b52e-1a55-4027-fbb5-a0a7cde22946"
      },
      "execution_count": null,
      "outputs": [
        {
          "output_type": "stream",
          "name": "stdout",
          "text": [
            "(31, 24, 'hello!!', 'hi', 'Python', 'Caerang')\n",
            "<class 'tuple'>\n"
          ]
        }
      ]
    },
    {
      "cell_type": "code",
      "source": [
        "# 3번\n",
        "import numpy as np\n",
        "num = list(np.random.randint(1,10000,10))\n",
        "max = num[0]\n",
        "for kk in num:\n",
        "  for i in range(len(num)):\n",
        "    if(max< num[i]):\n",
        "      max = num[i]\n",
        "  if kk == max:\n",
        "    print('오른쪽 값이 최댓값입니다.',end=' ')\n",
        "    print(max, end=' ')\n",
        "  else:\n",
        "    print(kk,end=' ')"
      ],
      "metadata": {
        "colab": {
          "base_uri": "https://localhost:8080/"
        },
        "id": "JCmkq-4RXYvU",
        "outputId": "a66712ae-8788-4b63-9099-3e337017f6b4"
      },
      "execution_count": null,
      "outputs": [
        {
          "output_type": "stream",
          "name": "stdout",
          "text": [
            "4051 8977 4445 5874 2664 6143 4932 7900 오른쪽 값이 최댓값입니다. 9412 8812 "
          ]
        }
      ]
    },
    {
      "cell_type": "code",
      "source": [
        "# 4번\n",
        "result_sum = 0 \n",
        "num = str(input())\n",
        "result_num = num.split(' ');\n",
        "for kk in result_num:\n",
        "  result = int(kk)*int(kk)\n",
        "  result_sum = int(result)+int(result_sum)\n",
        "print(result_sum%10)"
      ],
      "metadata": {
        "colab": {
          "base_uri": "https://localhost:8080/"
        },
        "id": "5leMFZzA58-D",
        "outputId": "b2d205f9-3fcf-4582-f790-59897abb1c08"
      },
      "execution_count": null,
      "outputs": [
        {
          "output_type": "stream",
          "name": "stdout",
          "text": [
            "13 5\n",
            "4\n"
          ]
        }
      ]
    }
  ]
}